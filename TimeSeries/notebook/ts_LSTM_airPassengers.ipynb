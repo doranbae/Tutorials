{
 "cells": [
  {
   "cell_type": "markdown",
   "metadata": {},
   "source": [
    "# Time Series Prediction with LSTM RNN using Kears\n",
    "### Source\n",
    "* https://machinelearningmastery.com/time-series-prediction-lstm-recurrent-neural-networks-python-keras/"
   ]
  },
  {
   "cell_type": "markdown",
   "metadata": {},
   "source": [
    "Time series prediction problems are a difficult type of predictive modeling problem. Unlike regression predictive modeling, time series also **adds the complexity of a sequence dependence among the input variables.** A powerful type of neural network designed to handle sequence dependence is called RNN. The LSTM network is a type of RNN used in deep learning because very large architectures can be successfully trained. "
   ]
  },
  {
   "cell_type": "code",
   "execution_count": 2,
   "metadata": {},
   "outputs": [],
   "source": [
    "import pandas as pd\n",
    "data = pd.read_csv('../data/AirPassengers.csv', usecols=[1]) # we will omit dates"
   ]
  },
  {
   "cell_type": "code",
   "execution_count": 3,
   "metadata": {},
   "outputs": [],
   "source": [
    "import matplotlib.pyplot as plt\n",
    "%matplotlib inline"
   ]
  },
  {
   "cell_type": "code",
   "execution_count": 4,
   "metadata": {},
   "outputs": [
    {
     "data": {
      "text/plain": [
       "[<matplotlib.lines.Line2D at 0x111f492e8>]"
      ]
     },
     "execution_count": 4,
     "metadata": {},
     "output_type": "execute_result"
    },
    {
     "data": {
      "image/png": "[encoded data removed]",
      "text/plain": [
       "<matplotlib.figure.Figure at 0x11147f278>"
      ]
     },
     "metadata": {},
     "output_type": "display_data"
    }
   ],
   "source": [
    "plt.plot(data['#Passengers'])"
   ]
  },
  {
   "cell_type": "markdown",
   "metadata": {},
   "source": [
    "You can see an upward trend in the dataset over time.  "
   ]
  },
  {
   "cell_type": "markdown",
   "metadata": {},
   "source": [
    "## 1. LSTM Network\n",
    "LSTM network is a RNN that is trained using backpropagation through time and overcomes the vanishing gradient problem. As such, it can be used to create large RNN that in turn can be used to address difficult sequence problems in ML and achieve state-of-the-art results. \n",
    "\n",
    "Instead of neurons, LSTM networks have memory blocks that are connectd through layers. A block has components that make it smarter than a classicial neuron and a memory for recent sequences. A block contains gates that manage the block's state and output. A block operates upon an input sequence and each gate with a block uses the sigmoid activation units to control whether they are triggered or not, making the change of state and addition of information flowing through the block conditional. \n",
    "\n",
    "There are three types of gates within a unit:\n",
    "* **Forget gate**: conditionally decides what information to throw away from the block. \n",
    "* **Input gate**: conditionally decides which values from the input to update the memory state.\n",
    "* **Output gate**: conditionally decides what to output based on input and the memory of the block.\n",
    "\n",
    "Each unit is like a mini-state machine where the gates of the units have weights that are learned during the training procedure. "
   ]
  },
  {
   "cell_type": "code",
   "execution_count": 5,
   "metadata": {},
   "outputs": [
    {
     "name": "stderr",
     "output_type": "stream",
     "text": [
      "Using TensorFlow backend.\n"
     ]
    }
   ],
   "source": [
    "import numpy as np\n",
    "import math\n",
    "from keras.models import Sequential\n",
    "from keras.layers import Dense\n",
    "from keras.layers import LSTM\n",
    "from sklearn.preprocessing import MinMaxScaler\n",
    "from sklearn.metrics import mean_squared_error"
   ]
  },
  {
   "cell_type": "code",
   "execution_count": 7,
   "metadata": {},
   "outputs": [],
   "source": [
    "# Fix random number seed for reproducibility\n",
    "np.random.seed(8)"
   ]
  },
  {
   "cell_type": "code",
   "execution_count": 8,
   "metadata": {},
   "outputs": [],
   "source": [
    "dataset=data.values\n",
    "dataset=dataset.astype('float32')"
   ]
  },
  {
   "cell_type": "markdown",
   "metadata": {},
   "source": [
    "LSTMs are sensitive to the scale of the input data, specifically when the sigmoid or tanh activation functions are used. It can be a good practice to rescale the data to the range of 0-to-1, also called normalizing. We can easily normalize the dataset using the **MinMaxScaler** preprocessing class from the scikit-learn library."
   ]
  },
  {
   "cell_type": "code",
   "execution_count": 9,
   "metadata": {},
   "outputs": [],
   "source": [
    "# normalize dataset\n",
    "scaler = MinMaxScaler(feature_range=(0,1))\n",
    "dataset=scaler.fit_transform(dataset)"
   ]
  },
  {
   "cell_type": "markdown",
   "metadata": {},
   "source": [
    "With the ts data, the sequence of values is important. We will split the dataset and then create the dataset using sequences."
   ]
  },
  {
   "cell_type": "code",
   "execution_count": 10,
   "metadata": {},
   "outputs": [
    {
     "name": "stdout",
     "output_type": "stream",
     "text": [
      "96 48\n"
     ]
    }
   ],
   "source": [
    "# split into train and test data sets.\n",
    "train_size = int(len(dataset)* 0.67)\n",
    "test_size = len(dataset)-train_size\n",
    "train,test=dataset[0:train_size,:], dataset[train_size:len(dataset),:]\n",
    "print(len(train), len(test))"
   ]
  },
  {
   "cell_type": "markdown",
   "metadata": {},
   "source": [
    "The following function takes two arguments: the dataset, which is a NumPy array that we want to convert into a dataset, and the look_back, which is the number of previous time stepts to use as input variables to predict the next time period - i nthis case defaulted to 1. "
   ]
  },
  {
   "cell_type": "code",
   "execution_count": 11,
   "metadata": {},
   "outputs": [],
   "source": [
    "# convert an array of values into a dataset matrix\n",
    "def create_dataset(dataset, look_back=1):\n",
    "    \"\"\"\n",
    "    Convert an array of values into a dataset matrix for ts.\n",
    "    \"\"\"\n",
    "    dataX, dataY = [],[]\n",
    "    for i in range(len(dataset)-look_back-1):\n",
    "        a = dataset[i:(i+look_back), 0]\n",
    "        dataX.append(a)\n",
    "        dataY.append(dataset[i+look_back, 0])\n",
    "    return np.array(dataX), np.array(dataY)"
   ]
  },
  {
   "cell_type": "code",
   "execution_count": 12,
   "metadata": {},
   "outputs": [],
   "source": [
    "look_back=1\n",
    "trainX, trainY = create_dataset(train, look_back)\n",
    "testX, testY = create_dataset(test, look_back)"
   ]
  },
  {
   "cell_type": "markdown",
   "metadata": {},
   "source": [
    "The LSTM network expects the input data(x) to be provided with a specific array structure in the form of: samples, time steps, features. Currently, our data is in the form of samples, features. We can transform the preprared train and test input data into the expected structure. "
   ]
  },
  {
   "cell_type": "code",
   "execution_count": 13,
   "metadata": {},
   "outputs": [],
   "source": [
    "# reshape input to be [samples, time steps, features]\n",
    "trainX=np.reshape(trainX, (trainX.shape[0], 1, trainX.shape[1]))\n",
    "testX=np.reshape(testX, (testX.shape[0], 1, testX.shape[1]))"
   ]
  },
  {
   "cell_type": "markdown",
   "metadata": {},
   "source": [
    "The network has a visible layer with 1 input, a hidden layer with 4 LSTM blocks or neurons, and an output layer that makes a single value prediction. The defautl sigmoid activation function is used for the LSTM blocks. "
   ]
  },
  {
   "cell_type": "code",
   "execution_count": 14,
   "metadata": {},
   "outputs": [],
   "source": [
    "def fit_lstm(trainX, trainY, epochs=100, batch_size=1, verbose=2):\n",
    "    model=Sequential()\n",
    "    model.add(LSTM(4, input_shape=(1, look_back)))\n",
    "    model.add(Dense(1))\n",
    "    model.compile(loss='mean_squared_error', optimizer='adam')\n",
    "    model.fit(trainX, trainY, epochs=epochs, batch_size=batch_size, verbose=verbose)\n",
    "    return model"
   ]
  },
  {
   "cell_type": "code",
   "execution_count": 15,
   "metadata": {},
   "outputs": [
    {
     "name": "stdout",
     "output_type": "stream",
     "text": [
      "Epoch 1/100\n",
      " - 1s - loss: 0.0221\n",
      "Epoch 2/100\n",
      " - 0s - loss: 0.0101\n",
      "Epoch 3/100\n",
      " - 0s - loss: 0.0087\n",
      "Epoch 4/100\n",
      " - 0s - loss: 0.0079\n",
      "Epoch 5/100\n",
      " - 0s - loss: 0.0072\n",
      "Epoch 6/100\n",
      " - 0s - loss: 0.0065\n",
      "Epoch 7/100\n",
      " - 0s - loss: 0.0056\n",
      "Epoch 8/100\n",
      " - 0s - loss: 0.0049\n",
      "Epoch 9/100\n",
      " - 0s - loss: 0.0043\n",
      "Epoch 10/100\n",
      " - 0s - loss: 0.0038\n",
      "Epoch 11/100\n",
      " - 0s - loss: 0.0034\n",
      "Epoch 12/100\n",
      " - 0s - loss: 0.0030\n",
      "Epoch 13/100\n",
      " - 0s - loss: 0.0027\n",
      "Epoch 14/100\n",
      " - 0s - loss: 0.0025\n",
      "Epoch 15/100\n",
      " - 0s - loss: 0.0024\n",
      "Epoch 16/100\n",
      " - 0s - loss: 0.0023\n",
      "Epoch 17/100\n",
      " - 0s - loss: 0.0022\n",
      "Epoch 18/100\n",
      " - 0s - loss: 0.0021\n",
      "Epoch 19/100\n",
      " - 0s - loss: 0.0020\n",
      "Epoch 20/100\n",
      " - 0s - loss: 0.0021\n",
      "Epoch 21/100\n",
      " - 0s - loss: 0.0021\n",
      "Epoch 22/100\n",
      " - 0s - loss: 0.0021\n",
      "Epoch 23/100\n",
      " - 0s - loss: 0.0021\n",
      "Epoch 24/100\n",
      " - 0s - loss: 0.0020\n",
      "Epoch 25/100\n",
      " - 0s - loss: 0.0021\n",
      "Epoch 26/100\n",
      " - 0s - loss: 0.0020\n",
      "Epoch 27/100\n",
      " - 0s - loss: 0.0021\n",
      "Epoch 28/100\n",
      " - 0s - loss: 0.0020\n",
      "Epoch 29/100\n",
      " - 0s - loss: 0.0020\n",
      "Epoch 30/100\n",
      " - 0s - loss: 0.0021\n",
      "Epoch 31/100\n",
      " - 0s - loss: 0.0021\n",
      "Epoch 32/100\n",
      " - 0s - loss: 0.0021\n",
      "Epoch 33/100\n",
      " - 0s - loss: 0.0020\n",
      "Epoch 34/100\n",
      " - 0s - loss: 0.0021\n",
      "Epoch 35/100\n",
      " - 0s - loss: 0.0021\n",
      "Epoch 36/100\n",
      " - 0s - loss: 0.0019\n",
      "Epoch 37/100\n",
      " - 0s - loss: 0.0022\n",
      "Epoch 38/100\n",
      " - 0s - loss: 0.0020\n",
      "Epoch 39/100\n",
      " - 0s - loss: 0.0021\n",
      "Epoch 40/100\n",
      " - 0s - loss: 0.0021\n",
      "Epoch 41/100\n",
      " - 0s - loss: 0.0021\n",
      "Epoch 42/100\n",
      " - 0s - loss: 0.0021\n",
      "Epoch 43/100\n",
      " - 0s - loss: 0.0020\n",
      "Epoch 44/100\n",
      " - 0s - loss: 0.0021\n",
      "Epoch 45/100\n",
      " - 0s - loss: 0.0020\n",
      "Epoch 46/100\n",
      " - 0s - loss: 0.0021\n",
      "Epoch 47/100\n",
      " - 0s - loss: 0.0020\n",
      "Epoch 48/100\n",
      " - 0s - loss: 0.0020\n",
      "Epoch 49/100\n",
      " - 0s - loss: 0.0020\n",
      "Epoch 50/100\n",
      " - 0s - loss: 0.0020\n",
      "Epoch 51/100\n",
      " - 0s - loss: 0.0021\n",
      "Epoch 52/100\n",
      " - 0s - loss: 0.0021\n",
      "Epoch 53/100\n",
      " - 0s - loss: 0.0020\n",
      "Epoch 54/100\n",
      " - 0s - loss: 0.0019\n",
      "Epoch 55/100\n",
      " - 0s - loss: 0.0020\n",
      "Epoch 56/100\n",
      " - 0s - loss: 0.0019\n",
      "Epoch 57/100\n",
      " - 0s - loss: 0.0021\n",
      "Epoch 58/100\n",
      " - 0s - loss: 0.0022\n",
      "Epoch 59/100\n",
      " - 0s - loss: 0.0020\n",
      "Epoch 60/100\n",
      " - 0s - loss: 0.0021\n",
      "Epoch 61/100\n",
      " - 0s - loss: 0.0021\n",
      "Epoch 62/100\n",
      " - 0s - loss: 0.0020\n",
      "Epoch 63/100\n",
      " - 0s - loss: 0.0021\n",
      "Epoch 64/100\n",
      " - 0s - loss: 0.0021\n",
      "Epoch 65/100\n",
      " - 0s - loss: 0.0020\n",
      "Epoch 66/100\n",
      " - 0s - loss: 0.0020\n",
      "Epoch 67/100\n",
      " - 0s - loss: 0.0020\n",
      "Epoch 68/100\n",
      " - 0s - loss: 0.0020\n",
      "Epoch 69/100\n",
      " - 0s - loss: 0.0021\n",
      "Epoch 70/100\n",
      " - 0s - loss: 0.0022\n",
      "Epoch 71/100\n",
      " - 0s - loss: 0.0021\n",
      "Epoch 72/100\n",
      " - 0s - loss: 0.0020\n",
      "Epoch 73/100\n",
      " - 0s - loss: 0.0021\n",
      "Epoch 74/100\n",
      " - 0s - loss: 0.0020\n",
      "Epoch 75/100\n",
      " - 0s - loss: 0.0021\n",
      "Epoch 76/100\n",
      " - 0s - loss: 0.0020\n",
      "Epoch 77/100\n",
      " - 0s - loss: 0.0020\n",
      "Epoch 78/100\n",
      " - 0s - loss: 0.0021\n",
      "Epoch 79/100\n",
      " - 0s - loss: 0.0020\n",
      "Epoch 80/100\n",
      " - 0s - loss: 0.0020\n",
      "Epoch 81/100\n",
      " - 0s - loss: 0.0020\n",
      "Epoch 82/100\n",
      " - 0s - loss: 0.0020\n",
      "Epoch 83/100\n",
      " - 0s - loss: 0.0020\n",
      "Epoch 84/100\n",
      " - 0s - loss: 0.0020\n",
      "Epoch 85/100\n",
      " - 0s - loss: 0.0020\n",
      "Epoch 86/100\n",
      " - 0s - loss: 0.0021\n",
      "Epoch 87/100\n",
      " - 0s - loss: 0.0020\n",
      "Epoch 88/100\n",
      " - 0s - loss: 0.0020\n",
      "Epoch 89/100\n",
      " - 0s - loss: 0.0020\n",
      "Epoch 90/100\n",
      " - 0s - loss: 0.0020\n",
      "Epoch 91/100\n",
      " - 0s - loss: 0.0020\n",
      "Epoch 92/100\n",
      " - 0s - loss: 0.0020\n",
      "Epoch 93/100\n",
      " - 0s - loss: 0.0020\n",
      "Epoch 94/100\n",
      " - 0s - loss: 0.0020\n",
      "Epoch 95/100\n",
      " - 0s - loss: 0.0020\n",
      "Epoch 96/100\n",
      " - 0s - loss: 0.0021\n",
      "Epoch 97/100\n",
      " - 0s - loss: 0.0019\n",
      "Epoch 98/100\n",
      " - 0s - loss: 0.0020\n",
      "Epoch 99/100\n",
      " - 0s - loss: 0.0021\n",
      "Epoch 100/100\n",
      " - 0s - loss: 0.0020\n"
     ]
    }
   ],
   "source": [
    "lstm_model = fit_lstm(trainX, trainY)"
   ]
  },
  {
   "cell_type": "markdown",
   "metadata": {},
   "source": [
    "Once the model is fit, we can estimate the performance of the model on the train and test datasets. This will give us a point of comparison for new models. Note that we invert the predictions before calculating error scores to ensure that performance is reported in the same units as the original data(thousands of passengers per month)."
   ]
  },
  {
   "cell_type": "code",
   "execution_count": 16,
   "metadata": {},
   "outputs": [],
   "source": [
    "# make predictions.\n",
    "trainPredict=lstm_model.predict(trainX)\n",
    "testPredict=lstm_model.predict(testX)\n",
    "\n",
    "# invert predictions.\n",
    "trainPredict=scaler.inverse_transform(trainPredict)\n",
    "trainY=scaler.inverse_transform([trainY])\n",
    "testPredict=scaler.inverse_transform(testPredict)\n",
    "testY=scaler.inverse_transform([testY])"
   ]
  },
  {
   "cell_type": "code",
   "execution_count": 17,
   "metadata": {},
   "outputs": [
    {
     "name": "stdout",
     "output_type": "stream",
     "text": [
      "Train score: 22.77 RMSE\n",
      "Test score: 48.21 RMSE\n"
     ]
    }
   ],
   "source": [
    "# calculate root mean squared error\n",
    "trainScore=math.sqrt(mean_squared_error(trainY[0], trainPredict[:,0]))\n",
    "print('Train score: %.2f RMSE'%(trainScore))\n",
    "testScore=math.sqrt(mean_squared_error(testY[0], testPredict[:,0]))\n",
    "print('Test score: %.2f RMSE'%(testScore))"
   ]
  },
  {
   "cell_type": "markdown",
   "metadata": {},
   "source": [
    "Finally, we can generate predictions using the model for both the train and test dataset to get a visual indication of the skill of the model. Because of how the dataset was prepared, we must shift the predictions so that they align on the x-axis with the orignal dataset. Once prepared, the data is plotted, showing the original dataset in blue, the predictions for the training dataset in orange, and the predictions on the unseen test dataset in green."
   ]
  },
  {
   "cell_type": "code",
   "execution_count": 18,
   "metadata": {},
   "outputs": [
    {
     "data": {
      "image/png": "[encoded data removed]",
      "text/plain": [
       "<matplotlib.figure.Figure at 0x128030cf8>"
      ]
     },
     "metadata": {},
     "output_type": "display_data"
    }
   ],
   "source": [
    "# shift train predictions for plotting\n",
    "trainPredictPlot=np.empty_like(dataset)\n",
    "trainPredictPlot[:,:]=np.nan\n",
    "trainPredictPlot[look_back:len(trainPredict)+look_back, :] = trainPredict\n",
    "\n",
    "# shift test predictions for plotting\n",
    "testPredictPlot=np.empty_like(dataset)\n",
    "testPredictPlot[:,:]=np.nan\n",
    "testPredictPlot[len(trainPredict)+(look_back*2)+1:len(dataset)-1,:]=testPredict\n",
    "\n",
    "# plot baseline and predictions\n",
    "plt.plot(scaler.inverse_transform(dataset))\n",
    "plt.plot(trainPredictPlot)\n",
    "plt.plot(testPredictPlot)\n",
    "plt.show()"
   ]
  },
  {
   "cell_type": "markdown",
   "metadata": {},
   "source": [
    "## 2. LSTM for regression using the window method\n",
    "We can also phrase the problem so that multiple, recent time steps can be used tomake the prediction for the next time step. This is called a window, and the size of the window is a parameter that can be tuned for each problem."
   ]
  },
  {
   "cell_type": "code",
   "execution_count": 19,
   "metadata": {},
   "outputs": [],
   "source": [
    "look_back=3\n",
    "trainX, trainY = create_dataset(train, look_back)\n",
    "testX, testY = create_dataset(test, look_back)"
   ]
  },
  {
   "cell_type": "code",
   "execution_count": 23,
   "metadata": {},
   "outputs": [],
   "source": [
    "# reshape input to be [samples, time steps, features]\n",
    "trainX = np.reshape(trainX, (trainX.shape[0], 1, trainX.shape[1]))\n",
    "testX = np.reshape(testX, (testX.shape[0], 1, testX.shape[1]))"
   ]
  },
  {
   "cell_type": "code",
   "execution_count": 26,
   "metadata": {},
   "outputs": [
    {
     "name": "stdout",
     "output_type": "stream",
     "text": [
      "Epoch 1/100\n",
      " - 1s - loss: 0.0461\n",
      "Epoch 2/100\n",
      " - 0s - loss: 0.0193\n",
      "Epoch 3/100\n",
      " - 0s - loss: 0.0130\n",
      "Epoch 4/100\n",
      " - 0s - loss: 0.0113\n",
      "Epoch 5/100\n",
      " - 0s - loss: 0.0100\n",
      "Epoch 6/100\n",
      " - 0s - loss: 0.0088\n",
      "Epoch 7/100\n",
      " - 0s - loss: 0.0077\n",
      "Epoch 8/100\n",
      " - 0s - loss: 0.0068\n",
      "Epoch 9/100\n",
      " - 0s - loss: 0.0060\n",
      "Epoch 10/100\n",
      " - 0s - loss: 0.0053\n",
      "Epoch 11/100\n",
      " - 0s - loss: 0.0048\n",
      "Epoch 12/100\n",
      " - 0s - loss: 0.0044\n",
      "Epoch 13/100\n",
      " - 0s - loss: 0.0042\n",
      "Epoch 14/100\n",
      " - 0s - loss: 0.0040\n",
      "Epoch 15/100\n",
      " - 0s - loss: 0.0039\n",
      "Epoch 16/100\n",
      " - 0s - loss: 0.0038\n",
      "Epoch 17/100\n",
      " - 0s - loss: 0.0038\n",
      "Epoch 18/100\n",
      " - 0s - loss: 0.0037\n",
      "Epoch 19/100\n",
      " - 0s - loss: 0.0036\n",
      "Epoch 20/100\n",
      " - 0s - loss: 0.0036\n",
      "Epoch 21/100\n",
      " - 0s - loss: 0.0037\n",
      "Epoch 22/100\n",
      " - 0s - loss: 0.0036\n",
      "Epoch 23/100\n",
      " - 0s - loss: 0.0035\n",
      "Epoch 24/100\n",
      " - 0s - loss: 0.0035\n",
      "Epoch 25/100\n",
      " - 0s - loss: 0.0035\n",
      "Epoch 26/100\n",
      " - 0s - loss: 0.0035\n",
      "Epoch 27/100\n",
      " - 0s - loss: 0.0034\n",
      "Epoch 28/100\n",
      " - 0s - loss: 0.0034\n",
      "Epoch 29/100\n",
      " - 0s - loss: 0.0034\n",
      "Epoch 30/100\n",
      " - 0s - loss: 0.0034\n",
      "Epoch 31/100\n",
      " - 0s - loss: 0.0034\n",
      "Epoch 32/100\n",
      " - 0s - loss: 0.0033\n",
      "Epoch 33/100\n",
      " - 0s - loss: 0.0033\n",
      "Epoch 34/100\n",
      " - 0s - loss: 0.0033\n",
      "Epoch 35/100\n",
      " - 0s - loss: 0.0032\n",
      "Epoch 36/100\n",
      " - 0s - loss: 0.0031\n",
      "Epoch 37/100\n",
      " - 0s - loss: 0.0031\n",
      "Epoch 38/100\n",
      " - 0s - loss: 0.0031\n",
      "Epoch 39/100\n",
      " - 0s - loss: 0.0031\n",
      "Epoch 40/100\n",
      " - 0s - loss: 0.0031\n",
      "Epoch 41/100\n",
      " - 0s - loss: 0.0031\n",
      "Epoch 42/100\n",
      " - 0s - loss: 0.0030\n",
      "Epoch 43/100\n",
      " - 0s - loss: 0.0030\n",
      "Epoch 44/100\n",
      " - 0s - loss: 0.0030\n",
      "Epoch 45/100\n",
      " - 0s - loss: 0.0030\n",
      "Epoch 46/100\n",
      " - 0s - loss: 0.0030\n",
      "Epoch 47/100\n",
      " - 0s - loss: 0.0029\n",
      "Epoch 48/100\n",
      " - 0s - loss: 0.0030\n",
      "Epoch 49/100\n",
      " - 0s - loss: 0.0029\n",
      "Epoch 50/100\n",
      " - 0s - loss: 0.0029\n",
      "Epoch 51/100\n",
      " - 0s - loss: 0.0029\n",
      "Epoch 52/100\n",
      " - 0s - loss: 0.0028\n",
      "Epoch 53/100\n",
      " - 0s - loss: 0.0029\n",
      "Epoch 54/100\n",
      " - 0s - loss: 0.0028\n",
      "Epoch 55/100\n",
      " - 0s - loss: 0.0028\n",
      "Epoch 56/100\n",
      " - 0s - loss: 0.0028\n",
      "Epoch 57/100\n",
      " - 0s - loss: 0.0028\n",
      "Epoch 58/100\n",
      " - 0s - loss: 0.0029\n",
      "Epoch 59/100\n",
      " - 0s - loss: 0.0028\n",
      "Epoch 60/100\n",
      " - 0s - loss: 0.0027\n",
      "Epoch 61/100\n",
      " - 0s - loss: 0.0027\n",
      "Epoch 62/100\n",
      " - 0s - loss: 0.0027\n",
      "Epoch 63/100\n",
      " - 0s - loss: 0.0027\n",
      "Epoch 64/100\n",
      " - 0s - loss: 0.0027\n",
      "Epoch 65/100\n",
      " - 0s - loss: 0.0026\n",
      "Epoch 66/100\n",
      " - 0s - loss: 0.0027\n",
      "Epoch 67/100\n",
      " - 0s - loss: 0.0026\n",
      "Epoch 68/100\n",
      " - 0s - loss: 0.0026\n",
      "Epoch 69/100\n",
      " - 0s - loss: 0.0026\n",
      "Epoch 70/100\n",
      " - 0s - loss: 0.0026\n",
      "Epoch 71/100\n",
      " - 0s - loss: 0.0025\n",
      "Epoch 72/100\n",
      " - 0s - loss: 0.0025\n",
      "Epoch 73/100\n",
      " - 0s - loss: 0.0025\n",
      "Epoch 74/100\n",
      " - 0s - loss: 0.0026\n",
      "Epoch 75/100\n",
      " - 0s - loss: 0.0025\n",
      "Epoch 76/100\n",
      " - 0s - loss: 0.0025\n",
      "Epoch 77/100\n",
      " - 0s - loss: 0.0024\n",
      "Epoch 78/100\n",
      " - 0s - loss: 0.0025\n",
      "Epoch 79/100\n",
      " - 0s - loss: 0.0025\n",
      "Epoch 80/100\n",
      " - 0s - loss: 0.0024\n",
      "Epoch 81/100\n",
      " - 0s - loss: 0.0023\n",
      "Epoch 82/100\n",
      " - 0s - loss: 0.0024\n",
      "Epoch 83/100\n",
      " - 0s - loss: 0.0024\n",
      "Epoch 84/100\n",
      " - 0s - loss: 0.0023\n",
      "Epoch 85/100\n",
      " - 0s - loss: 0.0024\n",
      "Epoch 86/100\n",
      " - 0s - loss: 0.0023\n",
      "Epoch 87/100\n",
      " - 0s - loss: 0.0024\n",
      "Epoch 88/100\n",
      " - 0s - loss: 0.0022\n",
      "Epoch 89/100\n",
      " - 0s - loss: 0.0022\n",
      "Epoch 90/100\n",
      " - 0s - loss: 0.0023\n",
      "Epoch 91/100\n",
      " - 0s - loss: 0.0023\n",
      "Epoch 92/100\n",
      " - 0s - loss: 0.0024\n",
      "Epoch 93/100\n",
      " - 0s - loss: 0.0023\n",
      "Epoch 94/100\n",
      " - 0s - loss: 0.0022\n",
      "Epoch 95/100\n",
      " - 0s - loss: 0.0022\n",
      "Epoch 96/100\n",
      " - 0s - loss: 0.0022\n",
      "Epoch 97/100\n",
      " - 0s - loss: 0.0022\n",
      "Epoch 98/100\n",
      " - 0s - loss: 0.0022\n",
      "Epoch 99/100\n",
      " - 0s - loss: 0.0022\n",
      "Epoch 100/100\n",
      " - 0s - loss: 0.0021\n"
     ]
    }
   ],
   "source": [
    "lstm_model = fit_lstm(trainX, trainY)"
   ]
  },
  {
   "cell_type": "code",
   "execution_count": 27,
   "metadata": {},
   "outputs": [],
   "source": [
    "# make predictions.\n",
    "trainPredict=lstm_model.predict(trainX)\n",
    "testPredict=lstm_model.predict(testX)\n",
    "\n",
    "# invert predictions.\n",
    "trainPredict=scaler.inverse_transform(trainPredict)\n",
    "trainY=scaler.inverse_transform([trainY])\n",
    "testPredict=scaler.inverse_transform(testPredict)\n",
    "testY=scaler.inverse_transform([testY])"
   ]
  },
  {
   "cell_type": "code",
   "execution_count": 28,
   "metadata": {},
   "outputs": [
    {
     "name": "stdout",
     "output_type": "stream",
     "text": [
      "Train score: 24.38 RMSE\n",
      "Test score: 54.15 RMSE\n"
     ]
    }
   ],
   "source": [
    "# calculate root mean squared error\n",
    "trainScore=math.sqrt(mean_squared_error(trainY[0], trainPredict[:,0]))\n",
    "print('Train score: %.2f RMSE'%(trainScore))\n",
    "testScore=math.sqrt(mean_squared_error(testY[0], testPredict[:,0]))\n",
    "print('Test score: %.2f RMSE'%(testScore))"
   ]
  },
  {
   "cell_type": "markdown",
   "metadata": {},
   "source": [
    "We can see that the error was increased slightly compared to that of the previous section. It is because the window size and the network architecture were not tuned."
   ]
  },
  {
   "cell_type": "code",
   "execution_count": 29,
   "metadata": {},
   "outputs": [
    {
     "data": {
      "image/png": "[encoded data removed]",
      "text/plain": [
       "<matplotlib.figure.Figure at 0x12a6732e8>"
      ]
     },
     "metadata": {},
     "output_type": "display_data"
    }
   ],
   "source": [
    "# shift train predictions for plotting\n",
    "trainPredictPlot=np.empty_like(dataset)\n",
    "trainPredictPlot[:,:]=np.nan\n",
    "trainPredictPlot[look_back:len(trainPredict)+look_back, :] = trainPredict\n",
    "\n",
    "# shift test predictions for plotting\n",
    "testPredictPlot=np.empty_like(dataset)\n",
    "testPredictPlot[:,:]=np.nan\n",
    "testPredictPlot[len(trainPredict)+(look_back*2)+1:len(dataset)-1,:]=testPredict\n",
    "\n",
    "# plot baseline and predictions\n",
    "plt.plot(scaler.inverse_transform(dataset))\n",
    "plt.plot(trainPredictPlot)\n",
    "plt.plot(testPredictPlot)\n",
    "plt.show()"
   ]
  },
  {
   "cell_type": "markdown",
   "metadata": {},
   "source": [
    "## 3. LSTM with memory between batches\n",
    "The LSTM network ahs memory, which is capable of remembering across long sequences. Normally, the state within the network is reset after each training batch when fitting the model, as well as each call to model.predict() or model.evaluate(). \n",
    "\n",
    "We can gain a finer control over when the internal state of LSTM network is cleared in Keras by making the LSTM layer \"stateful.\" This means that it can build state over the entire training sequence and even maintain the state if needed to make predictions.\n",
    "\n",
    "It requires that the training data not be shuffled when fitting the network. It also requires explicit resetting of the network state after each exposure to the training data(epoch) by calls to model.reset_states(). This means that we must create our own outer loop of epochs and within each epoch call model.fit() and model.reset_state(). \n",
    "\n",
    "Finally, when the LSTM layer is constructed, the stateful parameter must be set to **True** and instead of specifying the input dimensions, we must hard code the number of samples in a batch, number of time steps in a sample and number of features in a time step by setting the batch_input_shape parameter."
   ]
  },
  {
   "cell_type": "code",
   "execution_count": 31,
   "metadata": {},
   "outputs": [],
   "source": [
    "# reshape into X=t and Y=t+1\n",
    "look_back = 3\n",
    "trainX, trainY = create_dataset(train, look_back)\n",
    "testX, testY = create_dataset(test, look_back)\n",
    "# reshape input to be [samples, time steps, features]\n",
    "trainX = np.reshape(trainX, (trainX.shape[0], trainX.shape[1], 1))\n",
    "testX = np.reshape(testX, (testX.shape[0], testX.shape[1], 1))"
   ]
  },
  {
   "cell_type": "code",
   "execution_count": 32,
   "metadata": {},
   "outputs": [],
   "source": [
    "def fit_lstm_2(trainX, trainY, epochs=100, batch_size=1, verbose=2):\n",
    "    model=Sequential()\n",
    "    model.add(LSTM(4, batch_input_shape = (batch_size, look_back, 1), stateful = True))\n",
    "    model.add(Dense(1))\n",
    "    model.compile(loss='mean_squared_error', optimizer='adam')\n",
    "    for i in range(epochs):\n",
    "        model.fit(trainX, trainY, epochs=1, batch_size=batch_size, verbose=verbose, shuffle=False)\n",
    "        model.reset_states()\n",
    "    return model"
   ]
  },
  {
   "cell_type": "code",
   "execution_count": 33,
   "metadata": {},
   "outputs": [
    {
     "name": "stdout",
     "output_type": "stream",
     "text": [
      "Epoch 1/1\n",
      " - 1s - loss: 0.0101\n",
      "Epoch 1/1\n",
      " - 0s - loss: 0.0129\n",
      "Epoch 1/1\n",
      " - 0s - loss: 0.0090\n",
      "Epoch 1/1\n",
      " - 0s - loss: 0.0072\n",
      "Epoch 1/1\n",
      " - 0s - loss: 0.0061\n",
      "Epoch 1/1\n",
      " - 0s - loss: 0.0055\n",
      "Epoch 1/1\n",
      " - 0s - loss: 0.0052\n",
      "Epoch 1/1\n",
      " - 0s - loss: 0.0050\n",
      "Epoch 1/1\n",
      " - 0s - loss: 0.0049\n",
      "Epoch 1/1\n",
      " - 0s - loss: 0.0048\n",
      "Epoch 1/1\n",
      " - 0s - loss: 0.0047\n",
      "Epoch 1/1\n",
      " - 0s - loss: 0.0047\n",
      "Epoch 1/1\n",
      " - 0s - loss: 0.0046\n",
      "Epoch 1/1\n",
      " - 0s - loss: 0.0046\n",
      "Epoch 1/1\n",
      " - 0s - loss: 0.0045\n",
      "Epoch 1/1\n",
      " - 0s - loss: 0.0045\n",
      "Epoch 1/1\n",
      " - 0s - loss: 0.0045\n",
      "Epoch 1/1\n",
      " - 0s - loss: 0.0044\n",
      "Epoch 1/1\n",
      " - 0s - loss: 0.0044\n",
      "Epoch 1/1\n",
      " - 0s - loss: 0.0044\n",
      "Epoch 1/1\n",
      " - 0s - loss: 0.0043\n",
      "Epoch 1/1\n",
      " - 0s - loss: 0.0043\n",
      "Epoch 1/1\n",
      " - 0s - loss: 0.0043\n",
      "Epoch 1/1\n",
      " - 0s - loss: 0.0043\n",
      "Epoch 1/1\n",
      " - 0s - loss: 0.0042\n",
      "Epoch 1/1\n",
      " - 0s - loss: 0.0042\n",
      "Epoch 1/1\n",
      " - 0s - loss: 0.0042\n",
      "Epoch 1/1\n",
      " - 0s - loss: 0.0042\n",
      "Epoch 1/1\n",
      " - 0s - loss: 0.0042\n",
      "Epoch 1/1\n",
      " - 0s - loss: 0.0041\n",
      "Epoch 1/1\n",
      " - 0s - loss: 0.0041\n",
      "Epoch 1/1\n",
      " - 0s - loss: 0.0041\n",
      "Epoch 1/1\n",
      " - 0s - loss: 0.0041\n",
      "Epoch 1/1\n",
      " - 0s - loss: 0.0041\n",
      "Epoch 1/1\n",
      " - 0s - loss: 0.0040\n",
      "Epoch 1/1\n",
      " - 0s - loss: 0.0040\n",
      "Epoch 1/1\n",
      " - 0s - loss: 0.0040\n",
      "Epoch 1/1\n",
      " - 0s - loss: 0.0040\n",
      "Epoch 1/1\n",
      " - 0s - loss: 0.0040\n",
      "Epoch 1/1\n",
      " - 0s - loss: 0.0040\n",
      "Epoch 1/1\n",
      " - 0s - loss: 0.0039\n",
      "Epoch 1/1\n",
      " - 0s - loss: 0.0039\n",
      "Epoch 1/1\n",
      " - 0s - loss: 0.0039\n",
      "Epoch 1/1\n",
      " - 0s - loss: 0.0039\n",
      "Epoch 1/1\n",
      " - 0s - loss: 0.0039\n",
      "Epoch 1/1\n",
      " - 0s - loss: 0.0039\n",
      "Epoch 1/1\n",
      " - 0s - loss: 0.0038\n",
      "Epoch 1/1\n",
      " - 0s - loss: 0.0038\n",
      "Epoch 1/1\n",
      " - 0s - loss: 0.0038\n",
      "Epoch 1/1\n",
      " - 0s - loss: 0.0038\n",
      "Epoch 1/1\n",
      " - 0s - loss: 0.0038\n",
      "Epoch 1/1\n",
      " - 0s - loss: 0.0038\n",
      "Epoch 1/1\n",
      " - 0s - loss: 0.0037\n",
      "Epoch 1/1\n",
      " - 0s - loss: 0.0037\n",
      "Epoch 1/1\n",
      " - 0s - loss: 0.0037\n",
      "Epoch 1/1\n",
      " - 1s - loss: 0.0037\n",
      "Epoch 1/1\n",
      " - 0s - loss: 0.0037\n",
      "Epoch 1/1\n",
      " - 0s - loss: 0.0036\n",
      "Epoch 1/1\n",
      " - 0s - loss: 0.0036\n",
      "Epoch 1/1\n",
      " - 0s - loss: 0.0036\n",
      "Epoch 1/1\n",
      " - 0s - loss: 0.0036\n",
      "Epoch 1/1\n",
      " - 1s - loss: 0.0036\n",
      "Epoch 1/1\n",
      " - 0s - loss: 0.0036\n",
      "Epoch 1/1\n",
      " - 0s - loss: 0.0035\n",
      "Epoch 1/1\n",
      " - 0s - loss: 0.0035\n",
      "Epoch 1/1\n",
      " - 0s - loss: 0.0035\n",
      "Epoch 1/1\n",
      " - 0s - loss: 0.0035\n",
      "Epoch 1/1\n",
      " - 0s - loss: 0.0035\n",
      "Epoch 1/1\n",
      " - 0s - loss: 0.0034\n",
      "Epoch 1/1\n",
      " - 0s - loss: 0.0034\n",
      "Epoch 1/1\n",
      " - 0s - loss: 0.0034\n",
      "Epoch 1/1\n",
      " - 0s - loss: 0.0034\n",
      "Epoch 1/1\n",
      " - 0s - loss: 0.0034\n",
      "Epoch 1/1\n",
      " - 0s - loss: 0.0033\n",
      "Epoch 1/1\n",
      " - 0s - loss: 0.0033\n",
      "Epoch 1/1\n",
      " - 0s - loss: 0.0033\n",
      "Epoch 1/1\n",
      " - 0s - loss: 0.0033\n",
      "Epoch 1/1\n",
      " - 0s - loss: 0.0032\n",
      "Epoch 1/1\n",
      " - 0s - loss: 0.0032\n",
      "Epoch 1/1\n",
      " - 0s - loss: 0.0032\n",
      "Epoch 1/1\n",
      " - 0s - loss: 0.0032\n",
      "Epoch 1/1\n",
      " - 0s - loss: 0.0031\n",
      "Epoch 1/1\n",
      " - 0s - loss: 0.0031\n",
      "Epoch 1/1\n",
      " - 0s - loss: 0.0031\n",
      "Epoch 1/1\n",
      " - 0s - loss: 0.0030\n",
      "Epoch 1/1\n",
      " - 0s - loss: 0.0030\n",
      "Epoch 1/1\n",
      " - 0s - loss: 0.0030\n",
      "Epoch 1/1\n",
      " - 0s - loss: 0.0029\n",
      "Epoch 1/1\n",
      " - 0s - loss: 0.0029\n",
      "Epoch 1/1\n",
      " - 0s - loss: 0.0029\n",
      "Epoch 1/1\n",
      " - 0s - loss: 0.0028\n",
      "Epoch 1/1\n",
      " - 0s - loss: 0.0028\n",
      "Epoch 1/1\n",
      " - 0s - loss: 0.0028\n",
      "Epoch 1/1\n",
      " - 0s - loss: 0.0027\n",
      "Epoch 1/1\n",
      " - 0s - loss: 0.0027\n",
      "Epoch 1/1\n",
      " - 0s - loss: 0.0027\n",
      "Epoch 1/1\n",
      " - 0s - loss: 0.0026\n",
      "Epoch 1/1\n",
      " - 0s - loss: 0.0026\n",
      "Epoch 1/1\n",
      " - 0s - loss: 0.0025\n",
      "Epoch 1/1\n",
      " - 0s - loss: 0.0025\n"
     ]
    }
   ],
   "source": [
    "lstm_model = fit_lstm_2(trainX, trainY)"
   ]
  },
  {
   "cell_type": "code",
   "execution_count": 36,
   "metadata": {},
   "outputs": [],
   "source": [
    "# make predictions\n",
    "batch_size=1\n",
    "trainPredict = lstm_model.predict(trainX, batch_size=batch_size)\n",
    "lstm_model.reset_states()\n",
    "testPredict = lstm_model.predict(testX, batch_size=batch_size)"
   ]
  },
  {
   "cell_type": "code",
   "execution_count": 37,
   "metadata": {},
   "outputs": [
    {
     "name": "stdout",
     "output_type": "stream",
     "text": [
      "Train Score: 26.08 RMSE\n",
      "Test Score: 55.37 RMSE\n"
     ]
    }
   ],
   "source": [
    "# invert predictions\n",
    "trainPredict = scaler.inverse_transform(trainPredict)\n",
    "trainY = scaler.inverse_transform([trainY])\n",
    "testPredict = scaler.inverse_transform(testPredict)\n",
    "testY = scaler.inverse_transform([testY])\n",
    "# calculate root mean squared error\n",
    "trainScore = math.sqrt(mean_squared_error(trainY[0], trainPredict[:,0]))\n",
    "print('Train Score: %.2f RMSE' % (trainScore))\n",
    "testScore = math.sqrt(mean_squared_error(testY[0], testPredict[:,0]))\n",
    "print('Test Score: %.2f RMSE' % (testScore))"
   ]
  },
  {
   "cell_type": "code",
   "execution_count": 39,
   "metadata": {},
   "outputs": [
    {
     "data": {
      "image/png": "[encoded data removed]",
      "text/plain": [
       "<matplotlib.figure.Figure at 0x12a9c78d0>"
      ]
     },
     "metadata": {},
     "output_type": "display_data"
    }
   ],
   "source": [
    "# shift train predictions for plotting\n",
    "trainPredictPlot = np.empty_like(dataset)\n",
    "trainPredictPlot[:, :] = np.nan\n",
    "trainPredictPlot[look_back:len(trainPredict)+look_back, :] = trainPredict\n",
    "# shift test predictions for plotting\n",
    "testPredictPlot = np.empty_like(dataset)\n",
    "testPredictPlot[:, :] = np.nan\n",
    "testPredictPlot[len(trainPredict)+(look_back*2)+1:len(dataset)-1, :] = testPredict\n",
    "# plot baseline and predictions\n",
    "plt.plot(scaler.inverse_transform(dataset))\n",
    "plt.plot(trainPredictPlot)\n",
    "plt.plot(testPredictPlot)\n",
    "plt.show()\n"
   ]
  },
  {
   "cell_type": "code",
   "execution_count": null,
   "metadata": {},
   "outputs": [],
   "source": []
  }
 ],
 "metadata": {
  "kernelspec": {
   "display_name": "Python 3",
   "language": "python",
   "name": "python3"
  },
  "language_info": {
   "codemirror_mode": {
    "name": "ipython",
    "version": 3
   },
   "file_extension": ".py",
   "mimetype": "text/x-python",
   "name": "python",
   "nbconvert_exporter": "python",
   "pygments_lexer": "ipython3",
   "version": "3.4.5"
  }
 },
 "nbformat": 4,
 "nbformat_minor": 2
}
