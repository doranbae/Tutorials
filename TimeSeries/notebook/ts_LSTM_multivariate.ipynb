{
 "cells": [
  {
   "cell_type": "markdown",
   "metadata": {},
   "source": [
    "# Multivariate time series forecasting with LSTM\n",
    "* Source: https://machinelearningmastery.com/multivariate-time-series-forecasting-lstms-keras/"
   ]
  },
  {
   "cell_type": "markdown",
   "metadata": {},
   "source": [
    "## 1. Air pollution forecasting"
   ]
  },
  {
   "cell_type": "code",
   "execution_count": 10,
   "metadata": {},
   "outputs": [],
   "source": [
    "import pandas as pd\n",
    "from datetime import datetime\n",
    "\n",
    "def parse(x):\n",
    "    return datetime.strptime(x, '%Y %m %d %H')\n",
    "\n",
    "file_path='../data/airPollution.csv'\n",
    "dataset = pd.read_csv(file_path, parse_dates = [['year', 'month', 'day', 'hour']], index_col=0, date_parser=parse)"
   ]
  },
  {
   "cell_type": "code",
   "execution_count": 11,
   "metadata": {},
   "outputs": [],
   "source": [
    "dataset.drop('No', axis =1, inplace=True)"
   ]
  },
  {
   "cell_type": "code",
   "execution_count": 12,
   "metadata": {},
   "outputs": [
    {
     "data": {
      "text/html": [
       "<div>\n",
       "<style>\n",
       "    .dataframe thead tr:only-child th {\n",
       "        text-align: right;\n",
       "    }\n",
       "\n",
       "    .dataframe thead th {\n",
       "        text-align: left;\n",
       "    }\n",
       "\n",
       "    .dataframe tbody tr th {\n",
       "        vertical-align: top;\n",
       "    }\n",
       "</style>\n",
       "<table border=\"1\" class=\"dataframe\">\n",
       "  <thead>\n",
       "    <tr style=\"text-align: right;\">\n",
       "      <th></th>\n",
       "      <th>pm2.5</th>\n",
       "      <th>DEWP</th>\n",
       "      <th>TEMP</th>\n",
       "      <th>PRES</th>\n",
       "      <th>cbwd</th>\n",
       "      <th>Iws</th>\n",
       "      <th>Is</th>\n",
       "      <th>Ir</th>\n",
       "    </tr>\n",
       "    <tr>\n",
       "      <th>year_month_day_hour</th>\n",
       "      <th></th>\n",
       "      <th></th>\n",
       "      <th></th>\n",
       "      <th></th>\n",
       "      <th></th>\n",
       "      <th></th>\n",
       "      <th></th>\n",
       "      <th></th>\n",
       "    </tr>\n",
       "  </thead>\n",
       "  <tbody>\n",
       "    <tr>\n",
       "      <th>2010-01-01 00:00:00</th>\n",
       "      <td>NaN</td>\n",
       "      <td>-21</td>\n",
       "      <td>-11.0</td>\n",
       "      <td>1021.0</td>\n",
       "      <td>NW</td>\n",
       "      <td>1.79</td>\n",
       "      <td>0</td>\n",
       "      <td>0</td>\n",
       "    </tr>\n",
       "    <tr>\n",
       "      <th>2010-01-01 01:00:00</th>\n",
       "      <td>NaN</td>\n",
       "      <td>-21</td>\n",
       "      <td>-12.0</td>\n",
       "      <td>1020.0</td>\n",
       "      <td>NW</td>\n",
       "      <td>4.92</td>\n",
       "      <td>0</td>\n",
       "      <td>0</td>\n",
       "    </tr>\n",
       "    <tr>\n",
       "      <th>2010-01-01 02:00:00</th>\n",
       "      <td>NaN</td>\n",
       "      <td>-21</td>\n",
       "      <td>-11.0</td>\n",
       "      <td>1019.0</td>\n",
       "      <td>NW</td>\n",
       "      <td>6.71</td>\n",
       "      <td>0</td>\n",
       "      <td>0</td>\n",
       "    </tr>\n",
       "    <tr>\n",
       "      <th>2010-01-01 03:00:00</th>\n",
       "      <td>NaN</td>\n",
       "      <td>-21</td>\n",
       "      <td>-14.0</td>\n",
       "      <td>1019.0</td>\n",
       "      <td>NW</td>\n",
       "      <td>9.84</td>\n",
       "      <td>0</td>\n",
       "      <td>0</td>\n",
       "    </tr>\n",
       "  </tbody>\n",
       "</table>\n",
       "</div>"
      ],
      "text/plain": [
       "                     pm2.5  DEWP  TEMP    PRES cbwd   Iws  Is  Ir\n",
       "year_month_day_hour                                              \n",
       "2010-01-01 00:00:00    NaN   -21 -11.0  1021.0   NW  1.79   0   0\n",
       "2010-01-01 01:00:00    NaN   -21 -12.0  1020.0   NW  4.92   0   0\n",
       "2010-01-01 02:00:00    NaN   -21 -11.0  1019.0   NW  6.71   0   0\n",
       "2010-01-01 03:00:00    NaN   -21 -14.0  1019.0   NW  9.84   0   0"
      ]
     },
     "execution_count": 12,
     "metadata": {},
     "output_type": "execute_result"
    }
   ],
   "source": [
    "dataset.head(4)"
   ]
  },
  {
   "cell_type": "code",
   "execution_count": 13,
   "metadata": {},
   "outputs": [
    {
     "name": "stdout",
     "output_type": "stream",
     "text": [
      "                     pollution  dew  temp   press wnd_dir  wnd_spd  snow  rain\n",
      "date                                                                          \n",
      "2010-01-02 00:00:00      129.0  -16  -4.0  1020.0      SE     1.79     0     0\n",
      "2010-01-02 01:00:00      148.0  -15  -4.0  1020.0      SE     2.68     0     0\n",
      "2010-01-02 02:00:00      159.0  -11  -5.0  1021.0      SE     3.57     0     0\n",
      "2010-01-02 03:00:00      181.0   -7  -5.0  1022.0      SE     5.36     1     0\n"
     ]
    }
   ],
   "source": [
    "dataset.columns=['pollution', 'dew','temp','press','wnd_dir','wnd_spd','snow','rain']\n",
    "dataset.index.name='date'\n",
    "\n",
    "# mark all NA values with 0\n",
    "dataset['pollution'].fillna(0, inplace=True)\n",
    "\n",
    "# drop first 24 hours\n",
    "dataset=dataset[24:]\n",
    "\n",
    "print(dataset.head(4))"
   ]
  },
  {
   "cell_type": "code",
   "execution_count": 15,
   "metadata": {},
   "outputs": [],
   "source": [
    "dataset.to_csv('../data/pollution.csv')"
   ]
  },
  {
   "cell_type": "markdown",
   "metadata": {},
   "source": [
    "Now we can quickly see what we have."
   ]
  },
  {
   "cell_type": "code",
   "execution_count": 18,
   "metadata": {},
   "outputs": [
    {
     "data": {
      "image/png": "[encoded data removed]",
      "text/plain": [
       "<matplotlib.figure.Figure at 0x112616940>"
      ]
     },
     "metadata": {},
     "output_type": "display_data"
    }
   ],
   "source": [
    "from matplotlib import pyplot as plt\n",
    "%matplotlib inline\n",
    "\n",
    "dataset=pd.read_csv('../data/pollution.csv', header=0,index_col=0)\n",
    "values=dataset.values\n",
    "\n",
    "# specificy columns to plot\n",
    "groups=[0,1,2,3,5,6,7]\n",
    "i=1\n",
    "#plot each column\n",
    "plt.figure()\n",
    "for group in groups:\n",
    "    plt.subplot(len(groups), 1, i)\n",
    "    plt.plot(values[:, group])\n",
    "    plt.title(dataset.columns[group], y=0.5, loc='right')\n",
    "    i+=1\n",
    "plt.show()"
   ]
  },
  {
   "cell_type": "markdown",
   "metadata": {},
   "source": [
    "## 2. LSTM data preparation\n",
    "The first step is to prepare the pollution dataset for the LSTM. This involves framing the dataset as a supervised learning problem and normalizing the input variables. We will frame the supervised learning problem as predicting the pollution at the current hour(t) given the pollution measurement and weather conditions at the prior time step. \n",
    "\n",
    "This formation is straightforward and just for this demonstration. "
   ]
  },
  {
   "cell_type": "code",
   "execution_count": 26,
   "metadata": {},
   "outputs": [],
   "source": [
    "# source: https://machinelearningmastery.com/convert-time-series-supervised-learning-problem-python/\n",
    "\n",
    "def series_to_supervised(data, n_in=1, n_out=1, dropnan=True):\n",
    "    n_vars=1 if type(data) is list else data.shape[1]\n",
    "    df=pd.DataFrame(data)\n",
    "    cols,names=list(),list()\n",
    "    \n",
    "    # input sequence (t-n,... t-1)\n",
    "    for i in range(n_in, 0, -1):\n",
    "        cols.append(df.shift(i))\n",
    "        names += [('var%d(t-%d)' % (j+1, i)) for j in range(n_vars)]\n",
    "    # forecast sequence (t, t+1, ... , t+n)\n",
    "    for i in range(0, n_out):\n",
    "        cols.append(df.shift(-i))\n",
    "        if i ==0:\n",
    "            names += [('var%d(t)' % (j+1)) for j in range(n_vars)]\n",
    "        else:\n",
    "            names += [('var%d(t+%d)' % (j+1, i)) for j in range(n_vars)]\n",
    "    # put it all together\n",
    "    agg=pd.concat(cols, axis=1)\n",
    "    agg.columns=names\n",
    "    # drop rows with NaN values\n",
    "    if dropnan:\n",
    "        agg.dropna(inplace=True)\n",
    "    return agg"
   ]
  },
  {
   "cell_type": "code",
   "execution_count": 27,
   "metadata": {},
   "outputs": [],
   "source": [
    "from sklearn.preprocessing import LabelEncoder, MinMaxScaler\n",
    "\n",
    "# integer encode direction\n",
    "encoder = LabelEncoder()\n",
    "values[:,4] = encoder.fit_transform(values[:,4])"
   ]
  },
  {
   "cell_type": "code",
   "execution_count": 28,
   "metadata": {},
   "outputs": [],
   "source": [
    "# ensure all data is float\n",
    "values = values.astype('float32')\n",
    "# normalize features\n",
    "scaler = MinMaxScaler(feature_range=(0, 1))\n",
    "scaled = scaler.fit_transform(values)"
   ]
  },
  {
   "cell_type": "code",
   "execution_count": 29,
   "metadata": {},
   "outputs": [
    {
     "name": "stdout",
     "output_type": "stream",
     "text": [
      "   var1(t-1)  var2(t-1)  var3(t-1)  var4(t-1)  var5(t-1)  var6(t-1)  \\\n",
      "1   0.129779   0.352941   0.245902   0.527273   0.666667   0.002290   \n",
      "2   0.148893   0.367647   0.245902   0.527273   0.666667   0.003811   \n",
      "3   0.159960   0.426471   0.229508   0.545454   0.666667   0.005332   \n",
      "4   0.182093   0.485294   0.229508   0.563637   0.666667   0.008391   \n",
      "5   0.138833   0.485294   0.229508   0.563637   0.666667   0.009912   \n",
      "\n",
      "   var7(t-1)  var8(t-1)   var1(t)  \n",
      "1   0.000000        0.0  0.148893  \n",
      "2   0.000000        0.0  0.159960  \n",
      "3   0.000000        0.0  0.182093  \n",
      "4   0.037037        0.0  0.138833  \n",
      "5   0.074074        0.0  0.109658  \n"
     ]
    }
   ],
   "source": [
    "# frame as supervised learning\n",
    "reframed = series_to_supervised(scaled, 1, 1)\n",
    "# drop columns we don't want to predict\n",
    "reframed.drop(reframed.columns[[9,10,11,12,13,14,15]], axis=1, inplace=True)\n",
    "print(reframed.head())"
   ]
  },
  {
   "cell_type": "markdown",
   "metadata": {},
   "source": [
    "More idea sto improve and explore:\n",
    "* One-hot encoding wind speed.\n",
    "* Making all series stationary with differencing and seasonal adjustment.\n",
    "* Providing more than 1 hour of input time steps."
   ]
  },
  {
   "cell_type": "markdown",
   "metadata": {},
   "source": [
    "## 3. Define and fit the model"
   ]
  },
  {
   "cell_type": "code",
   "execution_count": 75,
   "metadata": {},
   "outputs": [
    {
     "name": "stdout",
     "output_type": "stream",
     "text": [
      "(8760, 1, 8) (8760,) (35039, 1, 8) (35039,)\n"
     ]
    }
   ],
   "source": [
    "# split into train and test sets\n",
    "values = reframed.values\n",
    "n_train_hours = 365 * 24\n",
    "train = values[:n_train_hours, :]\n",
    "test = values[n_train_hours:, :]\n",
    "# split into input and outputs\n",
    "train_X, train_y = train[:, :-1], train[:, -1]\n",
    "test_X, test_y = test[:, :-1], test[:, -1]\n",
    "# reshape input to be 3D [samples, timesteps, features]\n",
    "train_X = train_X.reshape((train_X.shape[0], 1, train_X.shape[1]))\n",
    "test_X = test_X.reshape((test_X.shape[0], 1, test_X.shape[1]))\n",
    "print(train_X.shape, train_y.shape, test_X.shape, test_y.shape)"
   ]
  },
  {
   "cell_type": "code",
   "execution_count": 76,
   "metadata": {},
   "outputs": [],
   "source": [
    "import math\n",
    "from keras.models import Sequential\n",
    "from keras.layers import Dense\n",
    "from keras.layers import LSTM"
   ]
  },
  {
   "cell_type": "code",
   "execution_count": 77,
   "metadata": {},
   "outputs": [
    {
     "name": "stdout",
     "output_type": "stream",
     "text": [
      "Train on 8760 samples, validate on 35039 samples\n",
      "Epoch 1/50\n",
      " - 2s - loss: 0.0555 - val_loss: 0.0560\n",
      "Epoch 2/50\n",
      " - 1s - loss: 0.0383 - val_loss: 0.0579\n",
      "Epoch 3/50\n",
      " - 1s - loss: 0.0233 - val_loss: 0.0505\n",
      "Epoch 4/50\n",
      " - 1s - loss: 0.0166 - val_loss: 0.0393\n",
      "Epoch 5/50\n",
      " - 1s - loss: 0.0155 - val_loss: 0.0279\n",
      "Epoch 6/50\n",
      " - 1s - loss: 0.0149 - val_loss: 0.0217\n",
      "Epoch 7/50\n",
      " - 1s - loss: 0.0147 - val_loss: 0.0185\n",
      "Epoch 8/50\n",
      " - 1s - loss: 0.0147 - val_loss: 0.0171\n",
      "Epoch 9/50\n",
      " - 1s - loss: 0.0147 - val_loss: 0.0157\n",
      "Epoch 10/50\n",
      " - 1s - loss: 0.0144 - val_loss: 0.0148\n",
      "Epoch 11/50\n",
      " - 1s - loss: 0.0146 - val_loss: 0.0145\n",
      "Epoch 12/50\n",
      " - 1s - loss: 0.0145 - val_loss: 0.0144\n",
      "Epoch 13/50\n",
      " - 1s - loss: 0.0146 - val_loss: 0.0142\n",
      "Epoch 14/50\n",
      " - 1s - loss: 0.0143 - val_loss: 0.0142\n",
      "Epoch 15/50\n",
      " - 1s - loss: 0.0146 - val_loss: 0.0141\n",
      "Epoch 16/50\n",
      " - 1s - loss: 0.0144 - val_loss: 0.0141\n",
      "Epoch 17/50\n",
      " - 1s - loss: 0.0145 - val_loss: 0.0141\n",
      "Epoch 18/50\n",
      " - 1s - loss: 0.0144 - val_loss: 0.0140\n",
      "Epoch 19/50\n",
      " - 1s - loss: 0.0145 - val_loss: 0.0147\n",
      "Epoch 20/50\n",
      " - 1s - loss: 0.0146 - val_loss: 0.0141\n",
      "Epoch 21/50\n",
      " - 1s - loss: 0.0143 - val_loss: 0.0137\n",
      "Epoch 22/50\n",
      " - 1s - loss: 0.0144 - val_loss: 0.0139\n",
      "Epoch 23/50\n",
      " - 1s - loss: 0.0146 - val_loss: 0.0139\n",
      "Epoch 24/50\n",
      " - 1s - loss: 0.0144 - val_loss: 0.0139\n",
      "Epoch 25/50\n",
      " - 1s - loss: 0.0145 - val_loss: 0.0141\n",
      "Epoch 26/50\n",
      " - 1s - loss: 0.0143 - val_loss: 0.0138\n",
      "Epoch 27/50\n",
      " - 1s - loss: 0.0145 - val_loss: 0.0142\n",
      "Epoch 28/50\n",
      " - 1s - loss: 0.0145 - val_loss: 0.0143\n",
      "Epoch 29/50\n",
      " - 1s - loss: 0.0143 - val_loss: 0.0142\n",
      "Epoch 30/50\n",
      " - 1s - loss: 0.0145 - val_loss: 0.0141\n",
      "Epoch 31/50\n",
      " - 1s - loss: 0.0144 - val_loss: 0.0140\n",
      "Epoch 32/50\n",
      " - 1s - loss: 0.0144 - val_loss: 0.0141\n",
      "Epoch 33/50\n",
      " - 1s - loss: 0.0144 - val_loss: 0.0137\n",
      "Epoch 34/50\n",
      " - 1s - loss: 0.0142 - val_loss: 0.0136\n",
      "Epoch 35/50\n",
      " - 1s - loss: 0.0143 - val_loss: 0.0135\n",
      "Epoch 36/50\n",
      " - 1s - loss: 0.0143 - val_loss: 0.0135\n",
      "Epoch 37/50\n",
      " - 1s - loss: 0.0142 - val_loss: 0.0135\n",
      "Epoch 38/50\n",
      " - 1s - loss: 0.0144 - val_loss: 0.0139\n",
      "Epoch 39/50\n",
      " - 1s - loss: 0.0144 - val_loss: 0.0136\n",
      "Epoch 40/50\n",
      " - 1s - loss: 0.0143 - val_loss: 0.0139\n",
      "Epoch 41/50\n",
      " - 1s - loss: 0.0144 - val_loss: 0.0136\n",
      "Epoch 42/50\n",
      " - 1s - loss: 0.0144 - val_loss: 0.0136\n",
      "Epoch 43/50\n",
      " - 1s - loss: 0.0144 - val_loss: 0.0136\n",
      "Epoch 44/50\n",
      " - 1s - loss: 0.0142 - val_loss: 0.0138\n",
      "Epoch 45/50\n",
      " - 1s - loss: 0.0144 - val_loss: 0.0136\n",
      "Epoch 46/50\n",
      " - 1s - loss: 0.0144 - val_loss: 0.0138\n",
      "Epoch 47/50\n",
      " - 1s - loss: 0.0144 - val_loss: 0.0141\n",
      "Epoch 48/50\n",
      " - 1s - loss: 0.0143 - val_loss: 0.0140\n",
      "Epoch 49/50\n",
      " - 1s - loss: 0.0144 - val_loss: 0.0137\n",
      "Epoch 50/50\n",
      " - 1s - loss: 0.0143 - val_loss: 0.0138\n"
     ]
    }
   ],
   "source": [
    "model=Sequential()\n",
    "model.add(LSTM(50, input_shape=(train_X.shape[1], train_X.shape[2])))\n",
    "model.add(Dense(1))\n",
    "model.compile(loss='mae', optimizer='adam')\n",
    "\n",
    "history=model.fit(train_X, train_y, epochs=50, batch_size=72, validation_data=(test_X, test_y), verbose=2, shuffle=False)"
   ]
  },
  {
   "cell_type": "code",
   "execution_count": 78,
   "metadata": {},
   "outputs": [
    {
     "data": {
      "image/png": "[encoded data removed]",
      "text/plain": [
       "<matplotlib.figure.Figure at 0x131671e48>"
      ]
     },
     "metadata": {},
     "output_type": "display_data"
    }
   ],
   "source": [
    "plt.plot(history.history['loss'], label='train')\n",
    "plt.plot(history.history['val_loss'], label='test')\n",
    "plt.legend()\n",
    "plt.show()"
   ]
  },
  {
   "cell_type": "code",
   "execution_count": 79,
   "metadata": {},
   "outputs": [
    {
     "name": "stdout",
     "output_type": "stream",
     "text": [
      "Test RMSE: 26.646\n"
     ]
    }
   ],
   "source": [
    "from numpy import concatenate\n",
    "from sklearn.metrics import mean_squared_error\n",
    "\n",
    "# make a prediction\n",
    "yhat = model.predict(test_X)\n",
    "test_X = test_X.reshape((test_X.shape[0], test_X.shape[2]))\n",
    "\n",
    "# invert scaling for forecast\n",
    "inv_yhat = concatenate((yhat, test_X[:, 1:]), axis=1)\n",
    "inv_yhat = scaler.inverse_transform(inv_yhat)\n",
    "inv_yhat = inv_yhat[:,0]\n",
    "\n",
    "# invert scaling for actual\n",
    "test_y = test_y.reshape((len(test_y), 1))\n",
    "inv_y = concatenate((test_y, test_X[:, 1:]), axis=1)\n",
    "inv_y = scaler.inverse_transform(inv_y)\n",
    "inv_y = inv_y[:,0]\n",
    "\n",
    "# calculate RMSE\n",
    "rmse = sqrt(mean_squared_error(inv_y, inv_yhat))\n",
    "print('Test RMSE: %.3f' % rmse)"
   ]
  },
  {
   "cell_type": "code",
   "execution_count": null,
   "metadata": {},
   "outputs": [],
   "source": []
  }
 ],
 "metadata": {
  "kernelspec": {
   "display_name": "Python 3",
   "language": "python",
   "name": "python3"
  },
  "language_info": {
   "codemirror_mode": {
    "name": "ipython",
    "version": 3
   },
   "file_extension": ".py",
   "mimetype": "text/x-python",
   "name": "python",
   "nbconvert_exporter": "python",
   "pygments_lexer": "ipython3",
   "version": "3.4.5"
  }
 },
 "nbformat": 4,
 "nbformat_minor": 2
}
